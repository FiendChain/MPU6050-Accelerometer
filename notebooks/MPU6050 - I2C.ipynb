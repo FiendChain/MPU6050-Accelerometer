{
 "cells": [
  {
   "cell_type": "code",
   "execution_count": 394,
   "metadata": {},
   "outputs": [
    {
     "name": "stdout",
     "output_type": "stream",
     "text": [
      "\u001b[34mConnecting to --port=COM6 --baud=115200 \u001b[0m\n",
      "\u001b[34mReady.\n",
      "\u001b[0m"
     ]
    }
   ],
   "source": [
    "%serialconnect --port=COM6"
   ]
  },
  {
   "cell_type": "code",
   "execution_count": 395,
   "metadata": {},
   "outputs": [],
   "source": [
    "import machine\n",
    "from machine import Pin, I2C, UART\n",
    "import utime\n",
    "import struct\n",
    "import math"
   ]
  },
  {
   "cell_type": "code",
   "execution_count": 396,
   "metadata": {},
   "outputs": [],
   "source": [
    "pin_mappings = {\n",
    "    \"D0\": 16,\n",
    "    \"D1\": 5,\n",
    "    \"D2\": 4,\n",
    "    \"D3\": 0,\n",
    "    \"D4\": 2,\n",
    "    \"D5\": 14,\n",
    "    \"D6\": 12,\n",
    "    \"D7\": 13,\n",
    "    \"D8\": 15,\n",
    "    \"RX\": 3,\n",
    "    \"TX\": 1,\n",
    "    \"SD3\": 10,\n",
    "    \"SD2\": 9\n",
    "}"
   ]
  },
  {
   "cell_type": "code",
   "execution_count": 397,
   "metadata": {},
   "outputs": [],
   "source": [
    "sclk_pin = Pin(pin_mappings[\"D1\"])\n",
    "sdata_pin = Pin(pin_mappings[\"D2\"])\n",
    "i2c = I2C(-1, sclk_pin, sdata_pin, freq=400000)"
   ]
  },
  {
   "cell_type": "code",
   "execution_count": 398,
   "metadata": {},
   "outputs": [
    {
     "name": "stdout",
     "output_type": "stream",
     "text": [
      "0x68\r\n"
     ]
    }
   ],
   "source": [
    "print(hex(i2c.scan()[0]))"
   ]
  },
  {
   "cell_type": "code",
   "execution_count": 399,
   "metadata": {},
   "outputs": [],
   "source": [
    "# Two addressing modes\n",
    "# Write to internal register\n",
    "# Read from register\n",
    "\n",
    "# Single-byte write: \n",
    "# S, AD+W,    , RA,    , DATA,    , P\n",
    "#  ,     , ACK,     ACK,     , ACK, \n",
    "\n",
    "# Burst write sequence: \n",
    "# S, AD+W,    , RA,    , DATA,    , DATA,    , P (Auto increment to next register)\n",
    "#  ,     , ACK,   , ACK,     , ACK,     , ACK,\n",
    "\n",
    "# Single-byte read: \n",
    "# S, AD+W,    , RA,    , S, AD+R,    ,     , NACK, P\n",
    "#  ,     , ACK,   , ACK,  ,     , ACK, DATA,     ,  \n",
    "\n",
    "\n",
    "\n",
    "# Burst read sequence: \n",
    "# S, AD+W,    , RA,    , S, AD+R,    ,     , ACK,     , NACK, P\n",
    "#  ,     , ACK,   , ACK,  ,     , ACK, DATA,    , DATA, "
   ]
  },
  {
   "cell_type": "code",
   "execution_count": 400,
   "metadata": {},
   "outputs": [],
   "source": [
    "class MPU6050_Bus:\n",
    "    def __init__(self, i2c):\n",
    "        self.i2c = i2c\n",
    "        self.addr = 0x68\n",
    "        self.write_addr = self.addr << 1\n",
    "        self.read_addr = (self.addr << 1) | (1 << 0)\n",
    "        \n",
    "        self.total_retries = 5\n",
    "        self.retry_delay_ms = 100\n",
    "    \n",
    "    def write_bytes(self, register_addr, data):\n",
    "        data = bytes(data)\n",
    "        for _ in range(self.total_retries):\n",
    "            try:\n",
    "                self.i2c.start()\n",
    "                self.assert_ack(self.i2c.write(bytes([self.write_addr, register_addr])), 2)\n",
    "                self.assert_ack(self.i2c.write(data), len(data))\n",
    "                self.i2c.stop()\n",
    "                return\n",
    "            except CommError as ex:\n",
    "                utime.sleep_ms(self.retry_delay_ms)\n",
    "                continue\n",
    "        else:\n",
    "            utime.sleep_ms(self.retry_delay_ms)\n",
    "            raise Exception(\"Maximum retries reached\")\n",
    "        \n",
    "    def read_bytes (self, register_addr, total_bytes=1):\n",
    "        buffer = bytearray(total_bytes)\n",
    "        \n",
    "        for _ in range(self.total_retries):\n",
    "            try:\n",
    "                self.i2c.start()\n",
    "                self.assert_ack(self.i2c.write(bytes([self.write_addr, register_addr])), 2)\n",
    "                self.i2c.start()\n",
    "                self.assert_ack(self.i2c.write(bytes([self.read_addr])))\n",
    "                self.i2c.readinto(buffer)\n",
    "                self.i2c.stop()\n",
    "                return buffer\n",
    "            except CommError as ex:\n",
    "                utime.sleep_ms(self.retry_delay_ms)\n",
    "                continue\n",
    "        else:\n",
    "            raise Exception(\"Reached maximum retries\")\n",
    "    \n",
    "    def write_byte(self, register_addr, value):\n",
    "        value = value & 0xFF\n",
    "        self.write_bytes(register_addr, [value])\n",
    "    \n",
    "    def read_byte(self, register_addr):\n",
    "        return self.read_bytes(register_addr, 1)[0]\n",
    "    \n",
    "    def assert_ack(self, n, expected=1):\n",
    "        if n != expected:\n",
    "            raise CommError(\"Failed acknowledge\")\n",
    "\n",
    "class CommError(Exception):\n",
    "    def __init__(self, *args, **kwargs):\n",
    "        super().__init__(*args, **kwargs)"
   ]
  },
  {
   "cell_type": "code",
   "execution_count": 401,
   "metadata": {},
   "outputs": [],
   "source": [
    "class MPU6050:\n",
    "    def __init__(self, bus):\n",
    "        self.bus = bus\n",
    "        \n",
    "        self.gyro_fullscale_range = 0\n",
    "        self.accel_fullscale_range = 0\n",
    "        \n",
    "        self.gyro_sensitivity = [131, 65.5, 32.8, 16.4]\n",
    "        self.accel_sensitivity = [16384, 8192, 4096, 2048]\n",
    "        \n",
    "        self.set_clock_source(0x00)\n",
    "        self.set_gyro_fullscale_range(0)\n",
    "        self.set_accel_fullscale_range(0)\n",
    "        self.set_sleep(False)\n",
    "        \n",
    "        \n",
    "    def set_clock_source(self, source):\n",
    "        data = self.bus.read_byte(0x6B)\n",
    "        data = (data & 0xf8) | (source & 0x07)\n",
    "        self.bus.write_byte(0x6B, data)\n",
    "    \n",
    "    # page 14\n",
    "    def set_gyro_fullscale_range(self, mode):\n",
    "        # 0 = 250 deg/s\n",
    "        # 1 = 500\n",
    "        # 2 = 1000\n",
    "        # 3 = 2000\n",
    "        mode = mode & 0x03\n",
    "        data = self.bus.read_byte(0x1b)\n",
    "        data = (data & int(\"11100111\", 2)) | (mode << 3)\n",
    "        self.bus.write_byte(0x1b, data)\n",
    "        self.gyro_fullscale_range = mode\n",
    "        \n",
    "    # page 14\n",
    "    def set_accel_fullscale_range(self, mode):\n",
    "        # 0 = 2g\n",
    "        # 1 = 4g\n",
    "        # 2 = 8g\n",
    "        # 3 = 16g\n",
    "        mode = mode & 0x03\n",
    "        data = self.bus.read_byte(0x1c)\n",
    "        data = (data & int(\"11100111\", 2)) | (mode << 3)\n",
    "        self.bus.write_byte(0x1c, data)\n",
    "        self.accel_fullscale_range = mode\n",
    "            \n",
    "    def set_sleep(self, is_sleep):\n",
    "        data = self.bus.read_byte(0x6B)\n",
    "        if not is_sleep:\n",
    "            self.bus.write_byte(0x6B, data & ~(1 << 6))\n",
    "        else:\n",
    "            self.bus.write_byte(0x6B, data | (1 << 6))\n",
    "            \n",
    "    def is_ready(self):\n",
    "        data = self.bus.read_byte(0x3a)\n",
    "        if data & (1 << 0):\n",
    "             return True\n",
    "        return False\n",
    "            \n",
    "    def get_acceleration_data(self):\n",
    "        if not self.is_ready():\n",
    "            raise NotReady(\"Device is not ready!\")\n",
    "        \n",
    "        data = self.bus.read_bytes(0x3B, 14)\n",
    "        acc_x, acc_y, acc_z, temperature, gyro_x, gyro_y, gyro_z = struct.unpack(\">hhhhhhh\", data) \n",
    "        \n",
    "        accel_shift = self.accel_sensitivity[self.accel_fullscale_range]\n",
    "        acc_x /= accel_shift\n",
    "        acc_y /= accel_shift\n",
    "        acc_z /= accel_shift\n",
    "        \n",
    "        gyro_divider = self.gyro_sensitivity[self.gyro_fullscale_range]\n",
    "        gyro_x /= gyro_divider\n",
    "        gyro_y /= gyro_divider\n",
    "        gyro_z /= gyro_divider\n",
    "        \n",
    "        return ((acc_x, acc_y, acc_z), (gyro_x, gyro_y, gyro_z))\n",
    "    \n",
    "class NotReady(Exception):\n",
    "    def __init__(self, *args, **kwargs):\n",
    "        super().__init__(*args, **kwargs)"
   ]
  },
  {
   "cell_type": "code",
   "execution_count": 402,
   "metadata": {},
   "outputs": [],
   "source": [
    "class AccelerationCalculator:\n",
    "    def __init__(self, sensor):\n",
    "        self.sensor = sensor\n",
    "        \n",
    "        self.gyro_errors = [0, 0, 0]\n",
    "        self.accel_errors = [0, 0, 0] \n",
    "        \n",
    "        self.gyro_angles = [0, 0, 0]\n",
    "        self.euler_angles = [0, 0, 0]\n",
    "        \n",
    "        self.last_read_time_ms = None\n",
    "        \n",
    "    def calibrate(self, euler_angles=[0, 0, 0], gyro_reference=[0, 0, 0], accel_reference=[0, 0, 9.8], total_samples=1000):\n",
    "        \n",
    "        self.euler_angles = euler_angles\n",
    "        self.gyro_angles = euler_angles\n",
    "        \n",
    "        self.accel_angles = [0, 0] # x and y\n",
    "        \n",
    "        accel_values = [0, 0, 0]\n",
    "        gyro_values = [0, 0, 0]\n",
    "        \n",
    "        for _ in range(total_samples):\n",
    "            accel, gyro = self.sensor.get_acceleration_data()\n",
    "            for axis in range(3):\n",
    "                accel_values[axis] += accel[axis]\n",
    "                gyro_values[axis] += gyro[axis]\n",
    "        \n",
    "        # average offsets\n",
    "        for axis in range(3):\n",
    "            accel_values[axis] /= total_samples\n",
    "            gyro_values[axis] /= total_samples\n",
    "        \n",
    "        print((accel_values, gyro_values))\n",
    "        \n",
    "        for axis in range(3):\n",
    "            # later we do reading -= error\n",
    "            # reading = measured - error\n",
    "            # error = measured - reading\n",
    "            \n",
    "            # in this instance, measured = raw, reading = target\n",
    "            # error = raw - target\n",
    "            self.accel_errors[axis] = accel_values[axis] - accel_reference[axis]\n",
    "            self.gyro_errors[axis] = gyro_values[axis] - gyro_reference[axis]\n",
    "            \n",
    "    def calculate_acceleration_angles(self, accel):\n",
    "        x = (math.atan(accel[1]) / math.sqrt(accel[0]**2 + accel[2]**2)) * 180/math.pi\n",
    "        y = (math.atan(-accel[0]) / math.sqrt(accel[1]**2 + accel[2]**2)) * 180/math.pi\n",
    "        return (x, y)\n",
    "    \n",
    "    # calibrated\n",
    "    def get_acceleration_data(self):\n",
    "        accel_values, gyro_values = self.sensor.get_acceleration_data()\n",
    "        \n",
    "        accel_values = [accel_values[i]-self.accel_errors[i] for i in range(3)]\n",
    "        gyro_values = [gyro_values[i]-self.gyro_errors[i] for i in range(3)]\n",
    "            \n",
    "        return (accel_values, gyro_values)\n",
    "    \n",
    "    def get_euler_angles(self):\n",
    "        accel_values, gyro_values = self.get_acceleration_data()\n",
    "        \n",
    "        current_time_ms = utime.ticks_ms()\n",
    "        \n",
    "        if self.last_read_time_ms is None:\n",
    "            self.last_read_time_ms = current_time_ms\n",
    "        \n",
    "        delta_time_ms = current_time_ms - self.last_read_time_ms\n",
    "        self.last_read_time_ms = current_time_ms\n",
    "        \n",
    "        delta_time_s = delta_time_ms / 1000\n",
    "        \n",
    "        accel_angle_x, accel_angle_y = self.calculate_acceleration_angles(accel_values)\n",
    "        \n",
    "        # given as roll, pitch, yaw\n",
    "        for i in range(3):\n",
    "            self.gyro_angles[i] += gyro_values[i] * delta_time_s\n",
    "        \n",
    "        self.euler_angles[0] += gyro_values[2] * delta_time_s # yaw\n",
    "        self.euler_angles[1] = 0.96 * self.gyro_angles[0] + 0.04 * accel_angle_x # roll\n",
    "        self.euler_angles[2] = 0.96 * self.gyro_angles[1] + 0.04 * accel_angle_y # pitch\n",
    "        \n",
    "        return self.euler_angles"
   ]
  },
  {
   "cell_type": "code",
   "execution_count": 403,
   "metadata": {},
   "outputs": [],
   "source": [
    "def hex_string(data):\n",
    "    return ' '.join(('0x{:02x}'.format(d) for d in data))"
   ]
  },
  {
   "cell_type": "code",
   "execution_count": 404,
   "metadata": {},
   "outputs": [],
   "source": [
    "bus = MPU6050_Bus(i2c) \n",
    "sensor = MPU6050(bus)"
   ]
  },
  {
   "cell_type": "code",
   "execution_count": 405,
   "metadata": {},
   "outputs": [],
   "source": [
    "calculator = AccelerationCalculator(sensor)"
   ]
  },
  {
   "cell_type": "code",
   "execution_count": 406,
   "metadata": {},
   "outputs": [],
   "source": [
    "sensor.set_accel_fullscale_range(3) # measure up to 16g\n",
    "sensor.set_gyro_fullscale_range(3) # 2000 deg/s"
   ]
  },
  {
   "cell_type": "code",
   "execution_count": 407,
   "metadata": {},
   "outputs": [
    {
     "name": "stdout",
     "output_type": "stream",
     "text": [
      "([1.00628, -0.0150806, -0.00312793], [-3.99322, 0.800728, 2.03073])\n",
      "[-3.99322, 0.800728, 2.03073]\n",
      "[0.00627804, -0.0150806, -0.00312793]\n"
     ]
    }
   ],
   "source": [
    "calculator.calibrate(accel_reference=[1, 0, 0])\n",
    "print(calculator.gyro_errors)\n",
    "print(calculator.accel_errors)"
   ]
  },
  {
   "cell_type": "code",
   "execution_count": 408,
   "metadata": {},
   "outputs": [],
   "source": [
    "bluetooth = UART(1, 115200)\n",
    "bluetooth.init(115200, bits=8, parity=None, stop=1)"
   ]
  },
  {
   "cell_type": "code",
   "execution_count": 409,
   "metadata": {},
   "outputs": [
    {
     "name": "stdout",
     "output_type": "stream",
     "text": [
      "............................................................................................................................................................................................................................................................................................................................................\n",
      "**[ys] <class 'serial.serialutil.SerialException'>\n",
      "**[ys] GetOverlappedResult failed (PermissionError(13, 'Access is denied.', None, 5))\n",
      "\n",
      "\n",
      "**[ys] <class 'serial.serialutil.SerialException'>\n",
      "**[ys] ClearCommError failed (PermissionError(13, 'Access is denied.', None, 5))\n",
      "\n"
     ]
    }
   ],
   "source": [
    "header = 0xba41\n",
    "while True:\n",
    "    try:\n",
    "        accel, gyro = calculator.get_acceleration_data()\n",
    "        read_time = utime.ticks_ms()\n",
    "        data = struct.pack(\">HLffffff\", header, read_time, accel[0], accel[1], accel[2], gyro[0], gyro[1], gyro[2])\n",
    "        bluetooth.write(data)\n",
    "        utime.sleep_ms(1)\n",
    "    except NotReady as ex:\n",
    "        print(ex)\n",
    "        utime.sleep_ms(10)"
   ]
  },
  {
   "cell_type": "code",
   "execution_count": null,
   "metadata": {},
   "outputs": [],
   "source": []
  }
 ],
 "metadata": {
  "kernelspec": {
   "display_name": "MicroPython - USB",
   "language": "micropython",
   "name": "micropython"
  },
  "language_info": {
   "codemirror_mode": "python",
   "file_extension": ".py",
   "mimetype": "text/python",
   "name": "micropython"
  }
 },
 "nbformat": 4,
 "nbformat_minor": 2
}
